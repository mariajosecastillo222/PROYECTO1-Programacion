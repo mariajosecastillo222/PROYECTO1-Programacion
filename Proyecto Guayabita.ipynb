{
 "cells": [
  {
   "cell_type": "code",
   "execution_count": 3,
   "id": "2783c0fd",
   "metadata": {},
   "outputs": [],
   "source": [
    "import random\n",
    "import numpy as np"
   ]
  },
  {
   "cell_type": "code",
   "execution_count": 4,
   "id": "942835c6",
   "metadata": {
    "scrolled": true
   },
   "outputs": [
    {
     "name": "stdout",
     "output_type": "stream",
     "text": [
      "**********¡BIENVENIDO, AL CASINO RIPPE PLAY!**********\n",
      "😈🎱Podrás jugar el famoso juego de la guayabita 🎰🎲\n",
      "\n",
      " \n",
      "\n",
      " ******REGLAS BÁSICAS:******\n",
      "\n",
      "\n",
      " 1. Se fija un valor para apostar durante toda la ronda. \n",
      "\n",
      " 2. Cada jugador empieza su turno indicando si apuesta, en ese caso, el jugador aporta lo fijado anteriormente en un pote para todos.\n",
      "\n",
      " 3. El jugador lanza una vez el dado, posteriormente, según su lanzamiento, él puede apostar a obtener un número mayor o menor al que resultó inicialmente. Si gana la apuesta el segundo lanzamiento se lleva el pote, si pierde la apuesta se pasa el turno al siguiente jugador.\n",
      "\n",
      " 4. Si el primer resultado es 1 el jugador pierde la apuesta, por lo tanto deja la apuesta básica y pasa el turno al siguiente jugador. \n",
      "\n",
      " 5. Si el primero resultado es 6 el jugador puede retractarse de su apuesta y pasa el turno al siguiente jugador. \n",
      "\n",
      " 6. Cada vez que se reclame el premio del pote el casino gana el 5%\n",
      "\n"
     ]
    }
   ],
   "source": [
    "print(\"**********¡BIENVENIDO, AL CASINO RIPPE PLAY!**********\")\n",
    "print(\"😈🎱Podrás jugar el famoso juego de la guayabita 🎰🎲\" )\n",
    "\n",
    "print(\"\"\"\\n \n",
    "\\n ******REGLAS BÁSICAS:******\n",
    "\n",
    "\\n 1. Se fija un valor para apostar durante toda la ronda. \n",
    "\\n 2. Cada jugador empieza su turno indicando si apuesta, en ese caso, el jugador aporta lo fijado anteriormente en un pote para todos.\n",
    "\\n 3. El jugador lanza una vez el dado, posteriormente, según su lanzamiento, él puede apostar a obtener un número mayor o menor al que resultó inicialmente. Si gana la apuesta el segundo lanzamiento se lleva el pote, si pierde la apuesta se pasa el turno al siguiente jugador.\n",
    "\\n 4. Si el primer resultado es 1 el jugador pierde la apuesta, por lo tanto deja la apuesta básica y pasa el turno al siguiente jugador. \n",
    "\\n 5. Si el primero resultado es 6 el jugador puede retractarse de su apuesta y pasa el turno al siguiente jugador. \n",
    "\\n 6. Cada vez que se reclame el premio del pote el casino gana el 5%\n",
    "\"\"\")"
   ]
  },
  {
   "cell_type": "code",
   "execution_count": 7,
   "id": "c7ea4e7b",
   "metadata": {
    "scrolled": true
   },
   "outputs": [
    {
     "name": "stdout",
     "output_type": "stream",
     "text": [
      "¿Cuántos jugadores desean jugar? (únicamente pueden jugar 5 personas máximo): 4\n"
     ]
    }
   ],
   "source": [
    "#numero jugadores\n",
    "\n",
    "while True:\n",
    "    num_jugadores = int(input(\"¿Cuántos jugadores desean jugar? (únicamente pueden jugar 5 personas máximo): \"))\n",
    "    if num_jugadores > 5:\n",
    "        print(\"Ingrese un número menor a 6\")\n",
    "        continue\n",
    "    break"
   ]
  },
  {
   "cell_type": "code",
   "execution_count": 8,
   "id": "05775c3d",
   "metadata": {},
   "outputs": [
    {
     "name": "stdout",
     "output_type": "stream",
     "text": [
      "¿Cuál es el case para esta ronda? (valor mínimo): 4000\n",
      "El case mínimo es 15000.\n",
      "¿Cuál es el case para esta ronda? (valor mínimo): 20000\n"
     ]
    }
   ],
   "source": [
    "#valor fijo\n",
    "\n",
    "while True :\n",
    "\n",
    "    valor_fijo = int(input(\"¿Cuál es el case para esta ronda? (valor mínimo): \"))\n",
    "\n",
    "    if valor_fijo < 15000 :\n",
    "        print(\"El case mínimo es 15000.\")\n",
    "        continue\n",
    "    break\n",
    "             "
   ]
  },
  {
   "cell_type": "code",
   "execution_count": 9,
   "id": "7cf8fe5c",
   "metadata": {},
   "outputs": [
    {
     "data": {
      "text/plain": [
       "4"
      ]
     },
     "execution_count": 9,
     "metadata": {},
     "output_type": "execute_result"
    }
   ],
   "source": [
    "# dado \n",
    "\n",
    "dado = random.randrange(1,7) \n",
    "dado"
   ]
  },
  {
   "cell_type": "code",
   "execution_count": null,
   "id": "44e1fd62",
   "metadata": {},
   "outputs": [],
   "source": [
    "# María José Castillo y Miguel Feles"
   ]
  }
 ],
 "metadata": {
  "kernelspec": {
   "display_name": "Python 3 (ipykernel)",
   "language": "python",
   "name": "python3"
  },
  "language_info": {
   "codemirror_mode": {
    "name": "ipython",
    "version": 3
   },
   "file_extension": ".py",
   "mimetype": "text/x-python",
   "name": "python",
   "nbconvert_exporter": "python",
   "pygments_lexer": "ipython3",
   "version": "3.9.7"
  }
 },
 "nbformat": 4,
 "nbformat_minor": 5
}
